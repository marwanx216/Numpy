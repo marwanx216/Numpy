{
 "cells": [
  {
   "cell_type": "code",
   "execution_count": 1,
   "id": "3b50e2e0",
   "metadata": {},
   "outputs": [
    {
     "name": "stdout",
     "output_type": "stream",
     "text": [
      "[1, 2, 3, 4, 5]\n"
     ]
    }
   ],
   "source": [
    "# Question 1\n",
    "\n",
    "# Import numpy module\n",
    "import numpy as np\n",
    "\n",
    "# Create random list\n",
    "arr = np.array([1, 2, 3, 4, 5])\n",
    "\n",
    "# Convert arrr to ordinary list using tolist() function\n",
    "my_list = arr.tolist()\n",
    "\n",
    "\n",
    "print(my_list)"
   ]
  },
  {
   "cell_type": "code",
   "execution_count": 1,
   "id": "b6203ca9",
   "metadata": {},
   "outputs": [
    {
     "name": "stdout",
     "output_type": "stream",
     "text": [
      "15\n"
     ]
    }
   ],
   "source": [
    "# Question 2 ~ Manually \n",
    "\n",
    "# Import numpy module \n",
    "import numpy as np\n",
    "\n",
    "# Create 3x3 random array\n",
    "arr = np.array([[1, 2, 3], [4, 5, 6], [7, 8, 9]])\n",
    "sum = 0\n",
    "\n",
    "# The for loop takes every element on the diagonal and adds it value to the variable sum\n",
    "# Diagonal elements: (0,0) , (1,1) and (2,2)\n",
    "# The loop can work for any nxn array\n",
    "for i in range(len(arr)):\n",
    "       sum += arr[i][i]\n",
    "        \n",
    "# Display the sum of the diagonal elements \n",
    "print(sum)\n"
   ]
  },
  {
   "cell_type": "code",
   "execution_count": 2,
   "id": "f94e77c5",
   "metadata": {},
   "outputs": [
    {
     "name": "stdout",
     "output_type": "stream",
     "text": [
      "15\n"
     ]
    }
   ],
   "source": [
    "# Question 2 ~ using direct function \n",
    "\n",
    "# Import numpy module\n",
    "import numpy as np\n",
    "\n",
    "# Create random array \n",
    "arr = np.array([[1, 2, 3], [4, 5, 6], [7, 8, 9]])\n",
    "\n",
    "# Calculating the trace of the matrix(the sum of the diagonal elements)\n",
    "# and assigning its value to the sum variable\n",
    "sum = np.trace(arr)\n",
    "\n",
    "# Display the sum of the diagonal elements \n",
    "print(sum)"
   ]
  },
  {
   "cell_type": "code",
   "execution_count": 3,
   "id": "0f52e1a0",
   "metadata": {},
   "outputs": [
    {
     "name": "stdout",
     "output_type": "stream",
     "text": [
      "[3 5]\n"
     ]
    }
   ],
   "source": [
    "# Question 3 ~ 1st_Method\n",
    "\n",
    "# Import numpy module\n",
    "import numpy as np\n",
    "\n",
    "# Given array a\n",
    "a = np.array([[1,2],[3,5]])\n",
    "\n",
    "x = 2 \n",
    "\n",
    "print(a[a>x])"
   ]
  },
  {
   "cell_type": "code",
   "execution_count": 4,
   "id": "f45c6c72",
   "metadata": {},
   "outputs": [
    {
     "name": "stdout",
     "output_type": "stream",
     "text": [
      "3\n",
      "5\n"
     ]
    }
   ],
   "source": [
    "# Question 3 ~ 2nd_Method\n",
    "\n",
    "# Import numpy module\n",
    "import numpy as np\n",
    "\n",
    "# Given array a\n",
    "a = np.array([[1,2],[3,5]])\n",
    "x = 2\n",
    "\n",
    "# Iterate over elements to check if they are greater than x\n",
    "for i in a:\n",
    "    for j in i:\n",
    "        if(j>x):\n",
    "            print(j)"
   ]
  },
  {
   "cell_type": "code",
   "execution_count": 5,
   "id": "c37c3e3f",
   "metadata": {},
   "outputs": [
    {
     "name": "stdout",
     "output_type": "stream",
     "text": [
      "[[ 9 11 13]\n",
      " [15 17 19]\n",
      " [21 23 25]]\n"
     ]
    }
   ],
   "source": [
    "# Question 4\n",
    "\n",
    "# Import numpy module\n",
    "import numpy as np\n",
    "\n",
    "# Create random array A\n",
    "A = np.array([[0,1,2],\n",
    "     [3, 4, 5],\n",
    "     [6, 7, 8]])\n",
    "\n",
    "# Create random array B\n",
    "B = np.array([[9, 10, 11],\n",
    "     [12, 13 ,14],\n",
    "     [15, 16, 17]])\n",
    "\n",
    "# C is the new array which carries the addition of A and B\n",
    "C = A + B\n",
    "\n",
    "print(C)"
   ]
  },
  {
   "cell_type": "code",
   "execution_count": 6,
   "id": "5959f0eb",
   "metadata": {},
   "outputs": [
    {
     "name": "stdout",
     "output_type": "stream",
     "text": [
      "[[ 9 11 13]\n",
      " [15 17 19]\n",
      " [21 23 25]]\n"
     ]
    }
   ],
   "source": [
    "# Question 4\n",
    "\n",
    "# Import numpy module\n",
    "import numpy as np\n",
    "\n",
    "# Create random array A\n",
    "A = np.array([[0,1,2],\n",
    "     [3, 4, 5],\n",
    "     [6, 7, 8]])\n",
    "\n",
    "# Create random array B\n",
    "B = np.array([[9, 10, 11],\n",
    "     [12, 13 ,14],\n",
    "     [15, 16, 17]])\n",
    "\n",
    "# C is the new array which carries the addition of A and B\n",
    "C = np.add(A, B)\n",
    "\n",
    "print(C)"
   ]
  },
  {
   "cell_type": "code",
   "execution_count": 7,
   "id": "c381f276",
   "metadata": {},
   "outputs": [
    {
     "name": "stdout",
     "output_type": "stream",
     "text": [
      "[[-1  0  1]\n",
      " [-1  0  1]\n",
      " [-1  0  1]]\n"
     ]
    }
   ],
   "source": [
    "# Question 5\n",
    "\n",
    "# Import numpy module\n",
    "import numpy as np\n",
    "\n",
    "# Create random array A\n",
    "A = np.array([[9, 10, 11], # mean = 10\n",
    "     [12, 13 ,14], # mean = 13\n",
    "     [15, 16, 17]]) # mean = 16\n",
    "\n",
    "# Create a list of each row's mean \n",
    "mean_list = A.mean(axis=1) # [10, 13, 16]\n",
    "\n",
    "# Subtract each row by its mean\n",
    "for i in range(len(A)):\n",
    "     A[i] = A[i] - mean_list[i]\n",
    "\n",
    "# Display the new array \n",
    "print(A)"
   ]
  },
  {
   "cell_type": "code",
   "execution_count": null,
   "id": "8348622f",
   "metadata": {},
   "outputs": [],
   "source": []
  }
 ],
 "metadata": {
  "kernelspec": {
   "display_name": "Python 3 (ipykernel)",
   "language": "python",
   "name": "python3"
  },
  "language_info": {
   "codemirror_mode": {
    "name": "ipython",
    "version": 3
   },
   "file_extension": ".py",
   "mimetype": "text/x-python",
   "name": "python",
   "nbconvert_exporter": "python",
   "pygments_lexer": "ipython3",
   "version": "3.9.12"
  }
 },
 "nbformat": 4,
 "nbformat_minor": 5
}
